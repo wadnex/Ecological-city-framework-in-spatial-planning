{
  "nbformat": 4,
  "nbformat_minor": 0,
  "metadata": {
    "colab": {
      "provenance": []
    },
    "kernelspec": {
      "name": "python3",
      "display_name": "Python 3"
    },
    "language_info": {
      "name": "python"
    }
  },
  "cells": [
    {
      "cell_type": "code",
      "execution_count": 1,
      "metadata": {
        "colab": {
          "base_uri": "https://localhost:8080/"
        },
        "id": "vpfbRV1FW8Hn",
        "outputId": "13690c35-dd87-4882-92f9-e03fff484bda"
      },
      "outputs": [
        {
          "output_type": "stream",
          "name": "stdout",
          "text": [
            "The calculated demand (vostrebovannost) is: 0.7690000000000000\n"
          ]
        }
      ],
      "source": [
        "def calculate_vostrebovannost(usage_level, satisfaction_level, significance_level, W1=0.5, W2=0.3, W3=0.2):\n",
        "    \"\"\"\n",
        "    Расчёт интегрального показателя востребованности экосистемной услуги.\n",
        "\n",
        "    Параметры:\n",
        "    - usage_level: float (от 0 до 1) — уровень использования территории\n",
        "    - satisfaction_level: float (от 0 до 1) — уровень удовлетворенности\n",
        "    - significance_level: float (от 0 до 1) — значимость по экспертной оценке\n",
        "    - W1, W2, W3: веса каждого параметра\n",
        "\n",
        "    Возвращает:\n",
        "    - float: итоговый индекс востребованности\n",
        "    \"\"\"\n",
        "    # Проверка корректности входных данных\n",
        "    if not (0 <= usage_level <= 1):\n",
        "        raise ValueError(\"Usage level must be between 0 and 1\")\n",
        "    if not (0 <= satisfaction_level <= 1):\n",
        "        raise ValueError(\"Satisfaction level must be between 0 and 1\")\n",
        "    if not (0 <= significance_level <= 1):\n",
        "        raise ValueError(\"Significance level must be between 0 and 1\")\n",
        "\n",
        "    # Расчёт\n",
        "    demand = (usage_level * W1) + (satisfaction_level * W2) + (significance_level * W3)\n",
        "    return demand\n",
        "\n",
        "\n",
        "# Пример использования:\n",
        "# 77.8% использование, 3.2 из 5 удовлетворённость, 4.7 из 5 значимость\n",
        "usage = 0.778\n",
        "satisfaction = 3.2 / 5  # нормализуем\n",
        "significance = 4.7 / 5  # нормализуем\n",
        "\n",
        "demand = calculate_vostrebovannost(usage, satisfaction, significance)\n",
        "print(f\"The calculated demand (vostrebovannost) is: {demand:.16f}\")\n"
      ]
    }
  ]
}