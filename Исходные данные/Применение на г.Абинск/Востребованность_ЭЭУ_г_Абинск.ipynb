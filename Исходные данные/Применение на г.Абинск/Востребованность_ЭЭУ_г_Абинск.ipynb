{
  "nbformat": 4,
  "nbformat_minor": 0,
  "metadata": {
    "colab": {
      "provenance": []
    },
    "kernelspec": {
      "name": "python3",
      "display_name": "Python 3"
    },
    "language_info": {
      "name": "python"
    }
  },
  "cells": [
    {
      "cell_type": "code",
      "execution_count": null,
      "metadata": {
        "colab": {
          "base_uri": "https://localhost:8080/"
        },
        "id": "vpfbRV1FW8Hn",
        "outputId": "d6daeb4b-0ca5-4c67-adc6-4f34d6bfec2c"
      },
      "outputs": [
        {
          "output_type": "stream",
          "name": "stdout",
          "text": [
            "The calculated demand (vostrebovannost) is: 0.528\n"
          ]
        }
      ],
      "source": [
        "def calculate_vostrebovannost(usage_level, satisfaction_level, significance_level, W1=0.5, W2=0.3, W3=0.2):\n",
        "    \"\"\"\n",
        "    Calculate the demand (vostrebovannost) for ecosystem services.\n",
        "    Parameters:\n",
        "    - usage_level: float, usage level (0 to 1)\n",
        "    - satisfaction_level: float, satisfaction level (0 to 1)\n",
        "    - significance_level: float, significance level (0 to 1)\n",
        "    - W1: float, weight for usage level\n",
        "    - W2: float, weight for satisfaction level\n",
        "    - W3: float, weight for significance level\n",
        "    Returns:\n",
        "    - float, calculated demand for the service\n",
        "    \"\"\"\n",
        "    # Убедитесь, что все входные данные находятся в пределах ожидаемого диапазона\n",
        "    if not (0 <= usage_level <= 1):\n",
        "        raise ValueError (\"Usage level must be between 0 and 1\")\n",
        "    if not (0 <= satisfaction_level <= 1):\n",
        "        raise ValueError(\"Satisfaction level must be between 0 and 1\")\n",
        "    if not (0 <= significance_level <= 1):\n",
        "        raise ValueError(\"Significance level must be between 0 and 1\")\n",
        "    # Calculate the demand (vostrebovannost)\n",
        "    demand = (usage_level * W1) + (satisfaction_level * W2) + (significance_level * W3)\n",
        "    return demand\n",
        "# Данные\n",
        "usage_level = 0.33  # Уровень использования (77%)\n",
        "satisfaction_level = 3.31 / 5  # Уровень удовлетворенности (2.32 из 5)\n",
        "significance_level = 4.11 / 5  # Значимость услуги (4.1 из 5)\n",
        "# Расчет востребованности\n",
        "demand = calculate_vostrebovannost(usage_level, satisfaction_level, significance_level)\n",
        "print(f\"The calculated demand (vostrebovannost) is: {demand}\")\n"
      ]
    },
    {
      "cell_type": "code",
      "execution_count": null,
      "metadata": {
        "colab": {
          "base_uri": "https://localhost:8080/"
        },
        "outputId": "860a374e-c2e9-488b-a34e-073a1bcdd745",
        "id": "dSjtXPbzXKMu"
      },
      "outputs": [
        {
          "output_type": "stream",
          "name": "stdout",
          "text": [
            "The calculated demand (vostrebovannost) is: 0.737\n"
          ]
        }
      ],
      "source": [
        "def calculate_vostrebovannost(usage_level, satisfaction_level, significance_level, W1=0.5, W2=0.3, W3=0.2):\n",
        "    \"\"\"\n",
        "    Calculate the demand (vostrebovannost) for ecosystem services.\n",
        "    Parameters:\n",
        "    - usage_level: float, usage level (0 to 1)\n",
        "    - satisfaction_level: float, satisfaction level (0 to 1)\n",
        "    - significance_level: float, significance level (0 to 1)\n",
        "    - W1: float, weight for usage level\n",
        "    - W2: float, weight for satisfaction level\n",
        "    - W3: float, weight for significance level\n",
        "    Returns:\n",
        "    - float, calculated demand for the service\n",
        "    \"\"\"\n",
        "    # Убедитесь, что все входные данные находятся в пределах ожидаемого диапазона\n",
        "    if not (0 <= usage_level <= 1):\n",
        "        raise ValueError (\"Usage level must be between 0 and 1\")\n",
        "    if not (0 <= satisfaction_level <= 1):\n",
        "        raise ValueError(\"Satisfaction level must be between 0 and 1\")\n",
        "    if not (0 <= significance_level <= 1):\n",
        "        raise ValueError(\"Significance level must be between 0 and 1\")\n",
        "    # Calculate the demand (vostrebovannost)\n",
        "    demand = (usage_level * W1) + (satisfaction_level * W2) + (significance_level * W3)\n",
        "    return demand\n",
        "# Данные\n",
        "usage_level = 0.77  # Уровень использования (77%)\n",
        "satisfaction_level = 2.72 / 5  # Уровень удовлетворенности (2.72 из 5)\n",
        "significance_level = 4.72 / 5  # Значимость услуги (4.72 из 5)\n",
        "# Расчет востребованности\n",
        "demand = calculate_vostrebovannost(usage_level, satisfaction_level, significance_level)\n",
        "print(f\"The calculated demand (vostrebovannost) is: {demand}\")\n"
      ]
    }
  ]
}